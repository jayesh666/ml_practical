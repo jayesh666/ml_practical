{
 "cells": [
  {
   "cell_type": "code",
   "execution_count": 1,
   "metadata": {},
   "outputs": [
    {
     "name": "stdout",
     "output_type": "stream",
     "text": [
      "Basics of Python\n",
      "and\n",
      "Numpy\n",
      "\f",
      "\n"
     ]
    }
   ],
   "source": [
    "from PIL import Image\n",
    "import pytesseract\n",
    "pytesseract.pytesseract.tesseract_cmd = '/usr/local/Cellar/tesseract/4.1.1/bin/tesseract'\n",
    "\n",
    "im = Image.open('forRead.png')\n",
    "text = pytesseract.image_to_string(im)\n",
    "print(text)"
   ]
  },
  {
   "cell_type": "code",
   "execution_count": 24,
   "metadata": {
    "scrolled": false
   },
   "outputs": [
    {
     "name": "stdout",
     "output_type": "stream",
     "text": [
      "Basics of Python\n",
      "and\n",
      "Numpy\n",
      "\n",
      "Dr. Priyank Thakkar\n",
      "\n",
      "Associate Professor\n",
      "\n",
      "Computer Science and Engineering Department\n",
      "Institute of Technology\n",
      "\n",
      "Nirma University\n",
      "\f",
      "\n",
      "Introduction\n",
      "\n",
      "» Python is an interpreted, interactive, object-\n",
      "oriented, and high-level programming language\n",
      "\n",
      "> Python Features\n",
      "» Easy-to-learn\n",
      "» Easy-to-read\n",
      "» Abroad standard library\n",
      "» Databases\n",
      "» GUI Programming\n",
      "\f",
      "\n"
     ]
    }
   ],
   "source": [
    "import pdf2image\n",
    "import pytesseract\n",
    "temp = pdf2image.convert_from_path(pdf_path=\"Basics of Python and Numpy.pdf\", dpi=500, size=(2000,3000), poppler_path=r'/usr/local/Cellar/poppler/0.90.1/bin/')\n",
    "for i in range(len(temp)):\n",
    "    temp[i].save(\"sample\"+str(i)+\".jpg\")\n",
    "for i in range(2):\n",
    "    print(pytesseract.image_to_string(temp[i]))"
   ]
  }
 ],
 "metadata": {
  "kernelspec": {
   "display_name": "Python 3",
   "language": "python",
   "name": "python3"
  },
  "language_info": {
   "codemirror_mode": {
    "name": "ipython",
    "version": 3
   },
   "file_extension": ".py",
   "mimetype": "text/x-python",
   "name": "python",
   "nbconvert_exporter": "python",
   "pygments_lexer": "ipython3",
   "version": "3.8.3"
  }
 },
 "nbformat": 4,
 "nbformat_minor": 4
}
